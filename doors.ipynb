{
 "cells": [
  {
   "cell_type": "markdown",
   "id": "282e3ebd",
   "metadata": {},
   "source": []
  },
  {
   "cell_type": "code",
   "execution_count": 29,
   "id": "3fb0a1dc",
   "metadata": {},
   "outputs": [],
   "source": [
    "rooms = {\n",
    "    'main room': { # room 1. Player starts here. \n",
    "        'description': \"~You wake up on dusty old couch. The room is dimly lit by a candelabra sitting on top of a grand piano. The floor creaks and cobwebs hang from the walls.\\n\" \n",
    "        \"And though you can't see anyone else, you're sure you can hear a faint piano melody lingering in the air.~\", # Player wakes up on couch and sees room with piano\n",
    "        'connections': ['bedroom'], # Player must access Bedroom 1 to continue\n",
    "        'items': [\"couch\", \"grand piano\"] \n",
    "    },\n",
    "    'bedroom': { # room 2, connects with main room and living room\n",
    "        'description': \"~The bedroom's wallpaper is yellow and peeling. Silk drapes a large, oak bedframe in the middle of the room.\\n\"\n",
    "        \"The kingsized bed is covered in silk sheets and many satin pillows, messy from sleep. Someone was just here. You hear the wind howling outside.\\n\"\n",
    "        \"You need to find a way out of here.~\", # player must search bed to find master key for exit\n",
    "        'connections': [\"main room\", 'dining room'], \n",
    "        'items': [\"bed\", 'silver key']\n",
    "    },\n",
    "    'dining room': { # room 3, player can search dining table and/or use key to exit house\n",
    "        'description': \"You're in a cavernous dining room. Darkness envolpes you. The vast chamber echos with sounds unknown.\\n\" \n",
    "        \"Your only source is the glow of a long forgotten fire in the room's massive hearth.\\n\" \n",
    "        \"You can see a door at the end of the room. You hope it leads outside.\",\n",
    "        'connections': [\"bedroom\", 'outside'],\n",
    "        'items': [\"dining table\", \"fireplace\"]\n",
    "    },\n",
    "    \"outside\": { # final challenge. game ends when player exits house\n",
    "        \"description\": \"You are outside. Fresh air at last!\",\n",
    "        \"connections\": [\"dining room\"],\n",
    "    },\n",
    "    # Additional rooms...\n",
    "}\n"
   ]
  },
  {
   "cell_type": "code",
   "execution_count": 26,
   "id": "66b50e10",
   "metadata": {},
   "outputs": [],
   "source": [
    "class Game:\n",
    "    def __init__(self, room, item):\n",
    "        self.location = room\n",
    "        self.item = item\n",
    "        self.room_examined = False\n",
    "        self.has_key = False\n",
    "        self.inventory = []  # New line\n",
    "        \n",
    "    def select_item(self, new_item):\n",
    "        # this function sets an atribute to a new value\n",
    "        self.item = new_item\n",
    "\n",
    "    def examine_room(self):\n",
    "        self.room_examined = True\n",
    "        room_dict = rooms[self.location]\n",
    "        return room_dict\n",
    "    \n",
    "\n",
    "    def move_rooms(self, new_location):\n",
    "        self.location = new_location\n",
    "        self.room_examined = False\n",
    "        self.item = None\n",
    "    \n",
    "    def print_room(self):\n",
    "        room_dict = rooms[self.location]\n",
    "        return room_dict[\"description\"]\n",
    "\n",
    "    def take_key(self):\n",
    "        self.has_key = True\n",
    "    \n",
    "    def take_item(self, item):  # New method\n",
    "        self.inventory.append(item)\n",
    "        print(f\"You took the {item}\")\n",
    "    "
   ]
  },
  {
   "cell_type": "code",
   "execution_count": null,
   "id": "9a9e9b30",
   "metadata": {},
   "outputs": [],
   "source": [
    "class Door:\n",
    "    def __init__(self, is_unlocked: bool, connections: set, opens_with: str):\n",
    "        self.is_unlocked = is_unlocked \n",
    "        self.connections = connections\n",
    "        self.opens_with = opens_with\n",
    "        \n",
    "\n",
    "    def unlock(self, random_item: str): \n",
    "        if random_item == self.opens_with:\n",
    "            self.is_unlocked = True \n",
    "\n",
    "    def __repr__(self):\n",
    "        return (f\"Door unlocked: {self.is_unlocked}. Connects with: {self.connections}\") \n",
    "    \n",
    "    def is_door_unlocked(current_room, target_room, doors):\n",
    "        for door in doors[current_room]:\n",
    "            if target_room in door.connections:\n",
    "                return door.is_unlocked\n",
    "        return False\n"
   ]
  },
  {
   "cell_type": "code",
   "execution_count": 27,
   "id": "a38101aa",
   "metadata": {},
   "outputs": [],
   "source": [
    "player = Game(\"main room\", \"couch\")"
   ]
  },
  {
   "cell_type": "code",
   "execution_count": 40,
   "id": "dc7ecfba",
   "metadata": {},
   "outputs": [
    {
     "name": "stdout",
     "output_type": "stream",
     "text": [
      "I am in the room: main room\n",
      "the main room connects with: bedroom\n",
      "I am in the room: bedroom\n",
      "the bedroom connects with: dining room\n",
      "I am in the room: dining room\n",
      "the dining room connects with: outside\n",
      "I am in the room: outside\n",
      "{'main room': [Door unlocked: False. Connects with: {'main room', 'bedroom'}], 'bedroom': [Door unlocked: False. Connects with: {'main room', 'bedroom'}, Door unlocked: False. Connects with: {'bedroom', 'dining room'}], 'dining room': [Door unlocked: False. Connects with: {'bedroom', 'dining room'}, Door unlocked: False. Connects with: {'outside', 'dining room'}], 'outside': [Door unlocked: False. Connects with: {'outside', 'dining room'}]}\n"
     ]
    }
   ],
   "source": [
    "doors_dict = {}\n",
    "for room in rooms: # loops through each room in rooms dictionary\n",
    "    doors_dict[room] = [] # creates empty list of rooms in doors dictionary\n",
    "    print(\"I am in the room:\", room)\n",
    "    for connection in rooms[room][\"connections\"]: # loops through all connections in rooms\n",
    "        door_exists = False # creating a flag to set the state of doors as not exiting\n",
    "        if connection in doors_dict: # if connection (aka, one of the connecting rooms)\n",
    "               for existing_door in doors_dict[connection] : #loop through all its existing connections:\n",
    "                    if {room, connection} == existing_door.connections: # room = bedroom; existing door = main room; connections = {main room, bedroom}, if it exists --> \n",
    "                        doors_dict[room].append(existing_door) # we add all the above info (existing_door) to the doors_dict\n",
    "                        door_exists = True # and mark the door as existing\n",
    "                        break # break and loop again\n",
    "        if not door_exists: # if door doesn't exist -->\n",
    "            print(f\"the {room} connects with: {connection}\")\n",
    "            door1 = Door(False, {room, connection}, opens_with=\"\") # --> create a new door\n",
    "            doors_dict[room].append(door1) # add to door dictionary\n",
    "print(doors_dict)"
   ]
  },
  {
   "cell_type": "code",
   "execution_count": 41,
   "id": "ab1a46b9",
   "metadata": {},
   "outputs": [
    {
     "data": {
      "text/plain": [
       "{'main room': [Door unlocked: False. Connects with: {'main room', 'bedroom'}],\n",
       " 'bedroom': [Door unlocked: False. Connects with: {'main room', 'bedroom'},\n",
       "  Door unlocked: False. Connects with: {'bedroom', 'dining room'}],\n",
       " 'dining room': [Door unlocked: False. Connects with: {'bedroom', 'dining room'},\n",
       "  Door unlocked: False. Connects with: {'outside', 'dining room'}],\n",
       " 'outside': [Door unlocked: False. Connects with: {'outside', 'dining room'}]}"
      ]
     },
     "execution_count": 41,
     "metadata": {},
     "output_type": "execute_result"
    }
   ],
   "source": [
    "doors_dict"
   ]
  },
  {
   "cell_type": "code",
   "execution_count": 43,
   "id": "38481cc1",
   "metadata": {},
   "outputs": [
    {
     "data": {
      "text/plain": [
       "{'main room': [Door unlocked: True. Connects with: {'main room', 'bedroom'}],\n",
       " 'bedroom': [Door unlocked: True. Connects with: {'main room', 'bedroom'},\n",
       "  Door unlocked: False. Connects with: {'bedroom', 'dining room'}],\n",
       " 'dining room': [Door unlocked: False. Connects with: {'bedroom', 'dining room'},\n",
       "  Door unlocked: False. Connects with: {'outside', 'dining room'}],\n",
       " 'outside': [Door unlocked: False. Connects with: {'outside', 'dining room'}]}"
      ]
     },
     "execution_count": 43,
     "metadata": {},
     "output_type": "execute_result"
    }
   ],
   "source": [
    "doors_dict[\"main room\"][0].is_unlocked=True\n",
    "\n",
    "doors_dict"
   ]
  },
  {
   "cell_type": "code",
   "execution_count": 31,
   "id": "6aac90e8",
   "metadata": {},
   "outputs": [
    {
     "name": "stdout",
     "output_type": "stream",
     "text": [
      "~The bedroom's wallpaper is yellow and peeling. Silk drapes a large, oak bedframe in the middle of the room.\n",
      "The kingsized bed is covered in silk sheets and many satin pillows, messy from sleep. Someone was just here. You hear the wind howling outside.\n",
      "You need to find a way out of here.~.\n",
      "\n",
      "What do you want to do?\n",
      "            Search for items to help you escape: press 1 \n",
      "            View connecting rooms: press 2  \n",
      "            Move to another room: press 3\n",
      "            Type \"exit\" to exit game  \n",
      "            \n",
      "What room do you want to open?\n",
      "Type 'main room and dining room' to move there.\n"
     ]
    },
    {
     "ename": "AttributeError",
     "evalue": "'list' object has no attribute 'is_unlocked'",
     "output_type": "error",
     "traceback": [
      "\u001b[31m---------------------------------------------------------------------------\u001b[39m",
      "\u001b[31mAttributeError\u001b[39m                            Traceback (most recent call last)",
      "\u001b[36mCell\u001b[39m\u001b[36m \u001b[39m\u001b[32mIn[31]\u001b[39m\u001b[32m, line 50\u001b[39m\n\u001b[32m     48\u001b[39m \u001b[38;5;28;01mif\u001b[39;00m new_room \u001b[38;5;129;01min\u001b[39;00m connections:\n\u001b[32m     49\u001b[39m     first_time = \u001b[32m1\u001b[39m\n\u001b[32m---> \u001b[39m\u001b[32m50\u001b[39m     \u001b[38;5;28;01mif\u001b[39;00m \u001b[43mdoors_dict\u001b[49m\u001b[43m[\u001b[49m\u001b[43mnew_room\u001b[49m\u001b[43m]\u001b[49m\u001b[43m.\u001b[49m\u001b[43mis_unlocked\u001b[49m:\n\u001b[32m     51\u001b[39m         \u001b[38;5;28mprint\u001b[39m(\u001b[33m\"\u001b[39m\u001b[33mIt entered\u001b[39m\u001b[33m\"\u001b[39m)\n\u001b[32m     52\u001b[39m     \u001b[38;5;66;03m# Check if trying to go outside\u001b[39;00m\n",
      "\u001b[31mAttributeError\u001b[39m: 'list' object has no attribute 'is_unlocked'"
     ]
    }
   ],
   "source": [
    "# Game loop\n",
    "first_time = 1\n",
    "game_running = True\n",
    "while game_running:\n",
    "    if first_time: \n",
    "        print(f\"{rooms[player.location]['description']}.\\n\", flush = True)\n",
    "        first_time = 0\n",
    "    \n",
    "    # Show available connections\n",
    "    current_room = rooms[player.location]\n",
    "    connections = current_room['connections']\n",
    "\n",
    "    if player.room_examined == True:\n",
    "        print(f'''What do you want to do?\n",
    "            Search for items to help you escape: press 1 \n",
    "            View connecting rooms: press 2  \n",
    "            Move to another room: press 3\n",
    "            Inspect an item: press 4\n",
    "            Type \"exit\" to exit game  \n",
    "            ''', flush = True)\n",
    "    else:\n",
    "        print(f'''What do you want to do?\n",
    "            Search for items to help you escape: press 1 \n",
    "            View connecting rooms: press 2  \n",
    "            Move to another room: press 3\n",
    "            Type \"exit\" to exit game  \n",
    "            ''', flush = True)   \n",
    "    \n",
    " \n",
    "    user_input = input(\"What do you want to do? \")\n",
    "    \n",
    "    if user_input == \"1\":\n",
    "        room_info = player.examine_room()\n",
    "        print(\"You examined the room and found these items:\")\n",
    "        item_string_and = \" & \".join(rooms[player.location][\"items\"])\n",
    "        print(item_string_and)\n",
    "    elif user_input == \"2\":\n",
    "       if len(connections) > 0: # turn into a function, \n",
    "            print(\"Rooms you can move to:\")\n",
    "            for i, room in enumerate(connections):\n",
    "                print(f\"    - {room}\")\n",
    "    elif user_input == \"3\":\n",
    "         if len(connections) > 0:\n",
    "            connections_string = \" and \".join(connections)\n",
    "            print(f\"What room do you want to open?\\nType '{connections_string}' to move there.\")\n",
    "\n",
    "            new_room = input(f\"What room do you want to open? {connections}: \")\n",
    "            if new_room in connections:\n",
    "                first_time = 1\n",
    "                if doors_dict[new_room].is_unlocked:\n",
    "                    print(\"It entered\")\n",
    "                # Check if trying to go outside\n",
    "                if new_room == \"outside\" and player.has_key:\n",
    "                    print(\"You use the Silver Key to unlock the door and escape!\")\n",
    "                    print(\"Congratulations! You won!\")\n",
    "                    game_running = False\n",
    "                elif new_room == \"outside\" and not player.has_key:\n",
    "                    print(\"The door is locked. You need a key to escape.\")\n",
    "                else:\n",
    "                    player.move_rooms(new_room)\n",
    "                    print(f\"You moved to {new_room}\") # print(you have moved to {display_string(new_room})\n",
    "            else:\n",
    "                print(\"You can't go there from here.\")\n",
    "         else:\n",
    "            print(\"No exits available.\")\n",
    "    elif user_input == \"4\":\n",
    "        print(f\"Which item do you want to inspect? Type item name to inspect item.\")\n",
    "        user_input = input(\"Which items do you want to select? Type item name: \")\n",
    "        if user_input.lower() == \"silver key\":\n",
    "            player.take_key()\n",
    "            print(\"Congratulations! This key is special. Use it to escape!\")\n",
    "        else: \n",
    "            print(\"Nothing special about this item. Keep searching!\")    \n",
    "    elif user_input.lower() == \"exit\":\n",
    "        print(\"You ended the game. Good-bye!\")\n",
    "        game_running = False\n",
    "    else:\n",
    "        print(\"I don't understand that command.\")"
   ]
  },
  {
   "cell_type": "code",
   "execution_count": null,
   "id": "ce832513",
   "metadata": {},
   "outputs": [],
   "source": [
    "elif user_input == \"3\":\n",
    "         if len(connections) > 0:\n",
    "            connections_string = \" and \".join(connections)\n",
    "            print(f\"What room do you want to open?\\nType '{connections_string}' to move there.\")\n",
    "            new_room = input(f\"What room do you want to open? {connections}: \")\n",
    "            if new_room in connections:\n",
    "                first_time = 1\n",
    "                if doors_dict[new_room].is_unlocked:\n",
    "                    print(\"It entered\")\n",
    "                    # Then you can use your previous code\n",
    "                # else\n",
    "                    print(\"The door is locked. You need a key to escape.\")\n",
    "                # Check if trying to go outside\n",
    "                if new_room == \"outside\" and player.has_key:\n",
    "                    print(\"You use the Silver Key to unlock the door and escape!\")\n",
    "                    print(\"Congratulations! You won!\")\n",
    "                    game_running = False\n",
    "                elif new_room == \"outside\" and not player.has_key:\n",
    "                    print(\"The door is locked. You need a key to escape.\")\n",
    "                else:\n",
    "                    player.move_rooms(new_room)\n",
    "                    print(f\"You moved to {new_room}\") # print(you have moved to {display_string(new_room})\n",
    "            else:\n",
    "                print(\"You can't go there from here.\")\n",
    "         else:\n",
    "            print(\"No exits available.\")\n"
   ]
  },
  {
   "cell_type": "code",
   "execution_count": null,
   "id": "b0ca2b97",
   "metadata": {},
   "outputs": [],
   "source": []
  },
  {
   "cell_type": "code",
   "execution_count": null,
   "id": "d136923f",
   "metadata": {},
   "outputs": [],
   "source": []
  }
 ],
 "metadata": {
  "kernelspec": {
   "display_name": "Python 3",
   "language": "python",
   "name": "python3"
  },
  "language_info": {
   "codemirror_mode": {
    "name": "ipython",
    "version": 3
   },
   "file_extension": ".py",
   "mimetype": "text/x-python",
   "name": "python",
   "nbconvert_exporter": "python",
   "pygments_lexer": "ipython3",
   "version": "3.13.3"
  }
 },
 "nbformat": 4,
 "nbformat_minor": 5
}
