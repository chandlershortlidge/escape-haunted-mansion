{
 "cells": [
  {
   "cell_type": "markdown",
   "id": "c7fef2e1",
   "metadata": {},
   "source": [
    "You are in a dimly lit game room. There is an old couch and a locked door to the north.\n",
    "> look around\n",
    "You see a couch and a locked door.\n",
    "> examine couch\n",
    "You find a small key tucked in the cushions.\n",
    "> take key\n",
    "You take the key.\n",
    "> use key\n",
    "You unlock the door.\n",
    "> open door\n",
    "Congratulations! You escape the haunted mansion.\n"
   ]
  },
  {
   "cell_type": "code",
   "execution_count": 4,
   "id": "a8081f34",
   "metadata": {},
   "outputs": [],
   "source": [
    "rooms = {\n",
    "    'Main room': { # room 1. Player starts here. \n",
    "        'description': 'A dimly lit room with a dusty old couch and grand piano.', # Player wakes up on couch and sees room with piano\n",
    "        'connections': ['Bedroom 1'], # Player must access Bedroom 1 to continue\n",
    "        'items': [\"Couch\", \"Grand piano\"] \n",
    "    },\n",
    "    'Bedroom 1': { # room 2, connects with main room and living room\n",
    "        'description': 'The master bedroom with a large, soft bed.', # player must search bed to find master key for exit\n",
    "        'connections': [\"Main room\", 'Dining room'], \n",
    "        'items': [\"Bed\", 'Silver Key']\n",
    "    },\n",
    "    'Dining room': { # room 3, player can search dining table and/or use key to exit house\n",
    "        'description': 'An elegant dining room with an grand dining table.',\n",
    "        'connections': [\"Bedroom 1\", 'Outside'],\n",
    "        'items': [\"Dining table\"]\n",
    "    },\n",
    "    \"Outside\": { # final challenge. game ends when player exits house\n",
    "        \"description\": \"You are outside. Fresh air at last!\",\n",
    "        \"connections\": [\"Dining room\"],\n",
    "    },\n",
    "    # Additional rooms...\n",
    "}\n"
   ]
  },
  {
   "cell_type": "code",
   "execution_count": 5,
   "id": "ad93228b",
   "metadata": {},
   "outputs": [],
   "source": [
    "class Player:\n",
    "    def __init__(self, location, item):\n",
    "        self.location = location\n",
    "        self.item = item\n",
    "        self.room_examined = False\n",
    "        self.has_key = False\n",
    "        \n",
    "    \n",
    "    def select_item(self, item):\n",
    "        self.item = item\n",
    "    \n",
    "    def examine_room(self):\n",
    "        self.room_examined = True\n",
    "        return rooms[self.location]\n",
    "\n",
    "\n",
    "    def move_rooms(self, location):\n",
    "        self.location = location\n",
    "        self.item = None\n",
    "        self.room_examined = False\n",
    "\n",
    "\n",
    "    def take_key(self):\n",
    "        self.has_key = True\n",
    "    \n",
    "\n"
   ]
  },
  {
   "cell_type": "code",
   "execution_count": 6,
   "id": "06c12453",
   "metadata": {},
   "outputs": [],
   "source": [
    "player = Player(\"Main room\", \"Couch\")"
   ]
  },
  {
   "cell_type": "code",
   "execution_count": null,
   "id": "1c8a853f",
   "metadata": {},
   "outputs": [
    {
     "name": "stdout",
     "output_type": "stream",
     "text": [
      "You are in the Main room. you are looking at the Couch\n",
      "Here are your options\n",
      "          Enter 1 to examine room\n",
      "          Enter exit to exit game  \n",
      "          \n"
     ]
    }
   ],
   "source": [
    "while player.has_key == False:\n",
    "    print(f\"You are in the {player.location}. you are looking at the {player.item}\")\n",
    "    # if room is not examined: \n",
    "    print(f'''Here are your options\n",
    "          Enter 1 to examine room\n",
    "          Enter exit to exit game  \n",
    "          ''')\n",
    "    if player \n",
    "    break\n",
    "\n",
    "\n"
   ]
  },
  {
   "cell_type": "code",
   "execution_count": 6,
   "id": "8c03e171",
   "metadata": {},
   "outputs": [
    {
     "data": {
      "text/plain": [
       "{'description': 'A dimly lit room with a dusty old couch and grand piano.',\n",
       " 'connections': ['Bedroom 1'],\n",
       " 'items': ['Couch', 'Grand piano']}"
      ]
     },
     "execution_count": 6,
     "metadata": {},
     "output_type": "execute_result"
    }
   ],
   "source": [
    "rooms[\"Main room\"]"
   ]
  },
  {
   "cell_type": "code",
   "execution_count": null,
   "id": "0343cc64",
   "metadata": {},
   "outputs": [],
   "source": [
    "user_input = input(\"To begin, type anything: \")\n",
    "    print(user_input)"
   ]
  }
 ],
 "metadata": {
  "kernelspec": {
   "display_name": "Python 3",
   "language": "python",
   "name": "python3"
  },
  "language_info": {
   "codemirror_mode": {
    "name": "ipython",
    "version": 3
   },
   "file_extension": ".py",
   "mimetype": "text/x-python",
   "name": "python",
   "nbconvert_exporter": "python",
   "pygments_lexer": "ipython3",
   "version": "3.13.3"
  }
 },
 "nbformat": 4,
 "nbformat_minor": 5
}
